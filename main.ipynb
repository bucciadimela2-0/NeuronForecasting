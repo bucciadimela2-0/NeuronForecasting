{
 "cells": [
  {
   "cell_type": "code",
   "execution_count": null,
   "metadata": {},
   "outputs": [],
   "source": [
    "from importlib import reload\n",
    "\n",
    "import matplotlib.pyplot as plt\n",
    "import numpy as np\n",
    "import torch\n",
    "import torch.nn as nn\n",
    "import torch.optim as optim\n",
    "from scipy.integrate import solve_ivp\n",
    "from sklearn.model_selection import train_test_split\n",
    "from sklearn.preprocessing import RobustScaler"
   ]
  },
  {
   "cell_type": "code",
   "execution_count": null,
   "metadata": {},
   "outputs": [],
   "source": [
    "import sys\n",
    "\n",
    "custom_modules = [mod for mod in sys.modules if mod.startswith('utils.') or mod.startswith('neuronModels.')]\n",
    "for module in custom_modules:\n",
    "    del sys.modules[module]\n",
    "from neuronModels.FitzhughNagumoModel import FitzhughNagumoModel\n",
    "from neuronModels.GRUNetwork import GRUNetwork\n",
    "from neuronModels.HybridModel import HybridModel\n",
    "from neuronModels.IzhikevichModel import izhikevich_model\n",
    "from neuronModels.LifModel import LifModel\n",
    "from utils.Constants import Constants\n",
    "from utils.DataHandler import DataHandler\n",
    "from utils.Logger import Logger, LogLevel\n",
    "from utils.Plotter import Plotter\n",
    "\n",
    "logger = Logger()\n",
    "logger.log(\"Librerie Buildate\", LogLevel.INFO)"
   ]
  },
  {
   "cell_type": "markdown",
   "metadata": {},
   "source": [
    "Dati di banchmark articolo [1]:\n"
   ]
  },
  {
   "cell_type": "code",
   "execution_count": null,
   "metadata": {},
   "outputs": [],
   "source": [
    "\n",
    "# Calculate adjacency matrix G using Kronecker product\n",
    "G = DataHandler.generate_adjacency_matrix(Constants.A1, n=3)"
   ]
  },
  {
   "cell_type": "code",
   "execution_count": null,
   "metadata": {},
   "outputs": [],
   "source": [
    "# FitzHugh-Nagumo Model\n",
    "hybrid_model = HybridModel()\n",
    "fn_model = FitzhughNagumoModel(Constants.N, Constants.EPSILON, Constants.SIGMA, Constants.A, Constants.B, G)\n",
    "\n",
    "t,sol = fn_model._generate_synthetic_data()\n",
    "logger.log(\"Generated synthetic data for FitzHugh-Nagumo model\")"
   ]
  },
  {
   "cell_type": "code",
   "execution_count": null,
   "metadata": {},
   "outputs": [],
   "source": [
    "\n",
    "Plotter.plot_data(sol, num_series=1, time_steps=200, var_name='u')"
   ]
  },
  {
   "cell_type": "code",
   "execution_count": null,
   "metadata": {},
   "outputs": [],
   "source": [
    "\n",
    "x,y = DataHandler._prepare_data(sol)\n",
    "x_train, y_train, x_test, y_test = DataHandler._split_train_test(x,y)"
   ]
  },
  {
   "cell_type": "code",
   "execution_count": null,
   "metadata": {},
   "outputs": [],
   "source": [
    "\n",
    "model = hybrid_model._create_gru(len(sol[1]),len(sol[1]), same_size = True)\n",
    "optimizer = optim.Adam(model.parameters(), lr=0.01)\n",
    "trained_model = hybrid_model._train(model,x_train,y_train,optimizer,epochs = 200 )\n",
    "forecasted = hybrid_model._forecast(trained_model, x_test, y_test)\n"
   ]
  },
  {
   "cell_type": "code",
   "execution_count": null,
   "metadata": {},
   "outputs": [],
   "source": [
    "\n",
    "Plotter.plot_data(\n",
    "    y_test=y_test,\n",
    "    forecasted=forecasted,\n",
    "    index=3,\n",
    "    time_steps=200,\n",
    "    var_name='u',\n",
    "    title='Original u Values'\n",
    ")\n"
   ]
  },
  {
   "cell_type": "code",
   "execution_count": null,
   "metadata": {},
   "outputs": [],
   "source": [
    "x_error, y_error = DataHandler.create_error_sequences(model_data = sol , true_data = sol)\n",
    "model_corrections = hybrid_model._create_gru(len(sol[1]),len(sol[1]), same_size = True)\n",
    "optimizer = optim.Adam(model_corrections.parameters(), lr=0.001)\n",
    "trained_model_corrections = hybrid_model._train(model_corrections,x_error,y_error,optimizer,epochs = 200 )\n",
    "forecast = hybrid_model._forecast(trained_model_corrections, x_test, y_test, corrections=True)"
   ]
  },
  {
   "cell_type": "code",
   "execution_count": null,
   "metadata": {},
   "outputs": [],
   "source": [
    "\n",
    "Plotter.plot_data(\n",
    "    y_test=y_test,\n",
    "    forecasted=forecast,\n",
    "    index=2,  # since you were using index 2 in the original code\n",
    "    time_steps=200,\n",
    "    var_name='u',\n",
    "    title='Original u Values'\n",
    ")"
   ]
  },
  {
   "cell_type": "code",
   "execution_count": null,
   "metadata": {},
   "outputs": [],
   "source": [
    "\n",
    "Plotter.plot_data(\n",
    "    y_test=y_test,\n",
    "    forecasted=forecast,\n",
    "    index=26,\n",
    "    time_steps=200,\n",
    "    var_name='v',  # Note: changed to 'v' since this plots v variable\n",
    "    title='Original v Values'  # Also updated title to reflect v variable\n",
    ")"
   ]
  },
  {
   "cell_type": "markdown",
   "metadata": {},
   "source": [
    "PEZZO DA CONTROLLARE + classe IZHIKEVIC"
   ]
  },
  {
   "cell_type": "code",
   "execution_count": null,
   "metadata": {},
   "outputs": [],
   "source": [
    "\n",
    "\n",
    "izh_model = izhikevich_model(N=20, a=0.05, b=0.2, c=-65, d=8, I=10)\n",
    "t, data = izh_model._generate_synthetic_data(T=100, dt=0.1)\n",
    "hybrid_model = HybridModel()\n",
    "\n",
    "plt.plot(t, data[:, 1])  \n",
    "plt.title(\"Potenziale di Membrana del Neurone (Izhikevich)\")\n",
    "plt.xlabel(\"Tempo\")\n",
    "plt.ylabel(\"Potenziale di Membrana\")\n",
    "plt.show()"
   ]
  },
  {
   "cell_type": "code",
   "execution_count": null,
   "metadata": {},
   "outputs": [],
   "source": [
    "\n",
    "x,y = DataHandler._prepare_data(data)\n",
    "x_train, y_train, x_test, y_test = DataHandler._split_train_test(x,y)"
   ]
  },
  {
   "cell_type": "code",
   "execution_count": null,
   "metadata": {},
   "outputs": [],
   "source": [
    "model = hybrid_model._create_gru(len(data[1]),len(data[1]), same_size = True)\n",
    "optimizer = optim.Adam(model.parameters(), lr=0.1)\n",
    "trained_model = hybrid_model._train(model,x_train,y_train,optimizer,epochs = 200 )\n",
    "forecasted = hybrid_model._forecast(trained_model, x_test, y_test)"
   ]
  },
  {
   "cell_type": "code",
   "execution_count": null,
   "metadata": {},
   "outputs": [],
   "source": [
    "\n",
    "Plotter.plot_data(\n",
    "    y_test=y_test,\n",
    "    forecasted=forecasted,\n",
    "    index=5,\n",
    "    time_steps=y_test.shape[0],  # Using full length since no slice was specified\n",
    "    var_name='u',\n",
    "    title='Original u Values'\n",
    ")\n"
   ]
  },
  {
   "cell_type": "markdown",
   "metadata": {},
   "source": [
    "Da capire se mettere tutte le variabili perchè è più bellino o creare l'oggetto con le variabili di default. \n",
    "Nota: le costanti specifiche dei modelli nella rispettiva classe, mentre quelle globali (numero di neuroni), nel file delle costanti."
   ]
  },
  {
   "cell_type": "code",
   "execution_count": null,
   "metadata": {},
   "outputs": [],
   "source": [
    "lif_model = LifModel()\n",
    "t, V = lif_model.simulate(T=200, dt=0.1)"
   ]
  },
  {
   "cell_type": "markdown",
   "metadata": {},
   "source": [
    "Da Togliere?"
   ]
  },
  {
   "cell_type": "code",
   "execution_count": null,
   "metadata": {},
   "outputs": [],
   "source": [
    "import matplotlib.pyplot as plt\n",
    "\n",
    "plt.plot(t, V[:, 0])  # Visualizziamo il primo neurone\n",
    "plt.title(\"LIF Model Simulation - Primo Neurone\")\n",
    "plt.xlabel(\"Tempo (ms)\")\n",
    "plt.ylabel(\"Potenziale di membrana (mV)\")\n",
    "plt.grid()\n",
    "plt.show()"
   ]
  },
  {
   "cell_type": "code",
   "execution_count": null,
   "metadata": {},
   "outputs": [],
   "source": [
    "\n",
    "x, y = DataHandler._prepare_data(V)\n",
    "x_train, y_train, x_test, y_test = DataHandler._split_train_test(x, y)"
   ]
  },
  {
   "cell_type": "code",
   "execution_count": null,
   "metadata": {},
   "outputs": [],
   "source": [
    "model = hybrid_model._create_gru(\n",
    "    input_size=V.shape[1],  # number of neurons (20 in this case)\n",
    "    output_size=V.shape[1], \n",
    "    same_size=True\n",
    ")\n",
    "\n",
    "# Setup optimizer and train\n",
    "optimizer = optim.Adam(model.parameters(), lr=0.01)\n",
    "trained_model = hybrid_model._train(model, x_train, y_train, optimizer, epochs=200)\n",
    "\n",
    "# Generate forecasts\n",
    "forecasted = hybrid_model._forecast(trained_model, x_test, y_test)"
   ]
  },
  {
   "cell_type": "code",
   "execution_count": null,
   "metadata": {},
   "outputs": [],
   "source": [
    "Plotter.plot_data(\n",
    "    y_test=y_test,\n",
    "    forecasted=forecasted,\n",
    "    index=5,\n",
    "    time_steps=y_test.shape[0],\n",
    "    var_name='u',\n",
    "    title='LIF Model Forecast'\n",
    ")"
   ]
  },
  {
   "cell_type": "code",
   "execution_count": null,
   "metadata": {},
   "outputs": [],
   "source": [
    "\n",
    "Plotter.plot_data(sol, num_series = 1)"
   ]
  }
 ],
 "metadata": {
  "kernelspec": {
   "display_name": "Python 3.8.18 ('base')",
   "language": "python",
   "name": "python3"
  },
  "language_info": {
   "codemirror_mode": {
    "name": "ipython",
    "version": 3
   },
   "file_extension": ".py",
   "mimetype": "text/x-python",
   "name": "python",
   "nbconvert_exporter": "python",
   "pygments_lexer": "ipython3",
   "version": "3.8.18"
  },
  "orig_nbformat": 4,
  "vscode": {
   "interpreter": {
    "hash": "40d3a090f54c6569ab1632332b64b2c03c39dcf918b08424e98f38b5ae0af88f"
   }
  }
 },
 "nbformat": 4,
 "nbformat_minor": 2
}
